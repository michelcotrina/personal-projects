{
 "cells": [
  {
   "cell_type": "markdown",
   "metadata": {},
   "source": [
    "# Assignment 5 - Issue #854"
   ]
  },
  {
   "cell_type": "markdown",
   "metadata": {},
   "source": [
    "Fernando Mendoza | Adrea Pezo | Michel Cotrina | Estefanny Gil | Armando Ore"
   ]
  },
  {
   "cell_type": "markdown",
   "metadata": {},
   "source": [
    "The script should not give an error. Any mistake will be consider as 0.\n",
    "<br>We want an excel file with all the available presidential elections in this webpage.\n",
    "https://infogob.jne.gob.pe/Eleccion\n",
    "<br>The final excel should have these 3 columns \n",
    "(Elecciones | ORGANIZACIÓN POLÍTICA | TOTAL VOTOS)"
   ]
  },
  {
   "cell_type": "code",
   "execution_count": 26,
   "metadata": {
    "scrolled": true
   },
   "outputs": [
    {
     "name": "stdout",
     "output_type": "stream",
     "text": [
      "Requirement already satisfied: openpyxl in c:\\users\\lenovo\\anaconda3\\lib\\site-packages (3.0.10)\n",
      "Requirement already satisfied: et_xmlfile in c:\\users\\lenovo\\anaconda3\\lib\\site-packages (from openpyxl) (1.1.0)\n"
     ]
    }
   ],
   "source": [
    "#!pip install selenium\n",
    "#!pip install webdriver-manager\n",
    "#!pip install openpyxl"
   ]
  },
  {
   "cell_type": "markdown",
   "metadata": {},
   "source": [
    "# Run the code line depending on the internet browser you are using (Chrome or Firefox)"
   ]
  },
  {
   "cell_type": "markdown",
   "metadata": {
    "jp-MarkdownHeadingCollapsed": true
   },
   "source": [
    "## a. Setup for Chrome only"
   ]
  },
  {
   "cell_type": "code",
   "execution_count": 3,
   "metadata": {
    "scrolled": true
   },
   "outputs": [],
   "source": [
    "from selenium import webdriver\n",
    "\n",
    "from selenium.webdriver.chrome.service import Service\n",
    "from webdriver_manager.chrome import ChromeDriverManager\n",
    "\n",
    "from selenium.webdriver.support.ui import Select\n",
    "from selenium.webdriver.common.keys import Keys\n",
    "from selenium.webdriver.common.by import By\n",
    "\n",
    "from selenium.webdriver.support.ui import WebDriverWait\n",
    "from selenium.webdriver.support import expected_conditions as EC\n",
    "from selenium.webdriver.common.by import By\n",
    "\n",
    "import re\n",
    "import time \n",
    "import pandas as pd\n",
    "from openpyxl import load_workbook\n",
    "\n",
    "# Path for google Chrome\n",
    "chrome_driver_path = r'chromedriver-win64/chromedriver.exe'\n",
    "# Configue the service for google chrome\n",
    "service = Service(executable_path=chrome_driver_path)\n",
    "# Start the WebDriver for google chrome\n",
    "driver = webdriver.Chrome(service=service)"
   ]
  },
  {
   "cell_type": "markdown",
   "metadata": {
    "jp-MarkdownHeadingCollapsed": true
   },
   "source": [
    "## b. Setup for FireFox only"
   ]
  },
  {
   "cell_type": "code",
   "execution_count": 36,
   "metadata": {},
   "outputs": [],
   "source": [
    "from selenium import webdriver\n",
    "from selenium.webdriver.firefox.service import Service as FirefoxService\n",
    "from webdriver_manager.firefox import GeckoDriverManager\n",
    "\n",
    "from selenium.webdriver.support.ui import Select\n",
    "from selenium.webdriver.common.keys import Keys\n",
    "from selenium.webdriver.common.by import By\n",
    "\n",
    "from selenium.webdriver.support.ui import WebDriverWait\n",
    "from selenium.webdriver.support import expected_conditions as EC\n",
    "from selenium.webdriver.common.by import By\n",
    "\n",
    "import re\n",
    "import time \n",
    "import pandas as pd\n",
    "from openpyxl import load_workbook\n",
    "\n",
    "# Path for geckodriver (Firefox)\n",
    "gecko_driver_path = r'geckodriver-v0.34.0-win64\\geckodriver.exe'\n",
    "\n",
    "# Configure the service for Firefox\n",
    "service = FirefoxService(executable_path=gecko_driver_path)\n",
    "\n",
    "# Start the WebDriver for Firefox\n",
    "driver = webdriver.Firefox(service=service)\n"
   ]
  },
  {
   "cell_type": "markdown",
   "metadata": {
    "jp-MarkdownHeadingCollapsed": true
   },
   "source": [
    "# 3. Iteration"
   ]
  },
  {
   "cell_type": "code",
   "execution_count": 15,
   "metadata": {},
   "outputs": [],
   "source": [
    "# Maximize window\n",
    "driver.maximize_window()\n",
    "\n",
    "# Base URL for the web scraping. Open a new window\n",
    "url_base = \"https://infogob.jne.gob.pe/Eleccion\"\n",
    "driver.get(url_base)"
   ]
  },
  {
   "cell_type": "code",
   "execution_count": 17,
   "metadata": {
    "collapsed": true,
    "jupyter": {
     "outputs_hidden": true
    },
    "scrolled": true
   },
   "outputs": [
    {
     "name": "stdout",
     "output_type": "stream",
     "text": [
      "Nombre de la elección: PRESIDENCIAL 2021 - 2DA VUELTA\n"
     ]
    },
    {
     "name": "stderr",
     "output_type": "stream",
     "text": [
      "C:\\Users\\LENOVO\\AppData\\Local\\Temp\\ipykernel_22996\\1109597775.py:40: FutureWarning: Passing literal html to 'read_html' is deprecated and will be removed in a future version. To read from a literal string, wrap it in a 'StringIO' object.\n",
      "  table = pd.read_html(table_new)\n"
     ]
    },
    {
     "name": "stdout",
     "output_type": "stream",
     "text": [
      "                       Elecciones                 ORGANIZACIÓN POLÍTICA  \\\n",
      "0  PRESIDENCIAL 2021 - 2DA VUELTA  PARTIDO POLITICO NACIONAL PERU LIBRE   \n",
      "1  PRESIDENCIAL 2021 - 2DA VUELTA                        FUERZA POPULAR   \n",
      "2  PRESIDENCIAL 2021 - 2DA VUELTA                       VOTOS EN BLANCO   \n",
      "3  PRESIDENCIAL 2021 - 2DA VUELTA                           VOTOS NULOS   \n",
      "\n",
      "   TOTAL VOTOS  \n",
      "0      8836380  \n",
      "1      8792117  \n",
      "2       121489  \n",
      "3      1106816  \n",
      "Nombre de la elección: PRESIDENCIAL 2021\n"
     ]
    },
    {
     "name": "stderr",
     "output_type": "stream",
     "text": [
      "C:\\Users\\LENOVO\\AppData\\Local\\Temp\\ipykernel_22996\\1109597775.py:40: FutureWarning: Passing literal html to 'read_html' is deprecated and will be removed in a future version. To read from a literal string, wrap it in a 'StringIO' object.\n",
      "  table = pd.read_html(table_new)\n"
     ]
    },
    {
     "name": "stdout",
     "output_type": "stream",
     "text": [
      "          Elecciones                        ORGANIZACIÓN POLÍTICA  TOTAL VOTOS\n",
      "0  PRESIDENCIAL 2021         PARTIDO POLITICO NACIONAL PERU LIBRE      2724752\n",
      "1  PRESIDENCIAL 2021                               FUERZA POPULAR      1930762\n",
      "2  PRESIDENCIAL 2021                           RENOVACION POPULAR      1692279\n",
      "3  PRESIDENCIAL 2021  AVANZA PAIS - PARTIDO DE INTEGRACION SOCIAL      1674201\n",
      "4  PRESIDENCIAL 2021                               ACCION POPULAR      1306288\n",
      "Nombre de la elección: PRESIDENCIAL 2016 - 2DA VUELTA\n"
     ]
    },
    {
     "name": "stderr",
     "output_type": "stream",
     "text": [
      "C:\\Users\\LENOVO\\AppData\\Local\\Temp\\ipykernel_22996\\1109597775.py:40: FutureWarning: Passing literal html to 'read_html' is deprecated and will be removed in a future version. To read from a literal string, wrap it in a 'StringIO' object.\n",
      "  table = pd.read_html(table_new)\n"
     ]
    },
    {
     "name": "stdout",
     "output_type": "stream",
     "text": [
      "                       Elecciones   ORGANIZACIÓN POLÍTICA  TOTAL VOTOS\n",
      "0  PRESIDENCIAL 2016 - 2DA VUELTA  PERUANOS POR EL KAMBIO      8596937\n",
      "1  PRESIDENCIAL 2016 - 2DA VUELTA          FUERZA POPULAR      8555880\n",
      "2  PRESIDENCIAL 2016 - 2DA VUELTA         VOTOS EN BLANCO       149577\n",
      "3  PRESIDENCIAL 2016 - 2DA VUELTA             VOTOS NULOS      1040502\n",
      "Nombre de la elección: PRESIDENCIAL 2016\n"
     ]
    },
    {
     "name": "stderr",
     "output_type": "stream",
     "text": [
      "C:\\Users\\LENOVO\\AppData\\Local\\Temp\\ipykernel_22996\\1109597775.py:40: FutureWarning: Passing literal html to 'read_html' is deprecated and will be removed in a future version. To read from a literal string, wrap it in a 'StringIO' object.\n",
      "  table = pd.read_html(table_new)\n"
     ]
    },
    {
     "name": "stdout",
     "output_type": "stream",
     "text": [
      "          Elecciones                           ORGANIZACIÓN POLÍTICA  \\\n",
      "0  PRESIDENCIAL 2016                                  FUERZA POPULAR   \n",
      "1  PRESIDENCIAL 2016                          PERUANOS POR EL KAMBIO   \n",
      "2  PRESIDENCIAL 2016  EL FRENTE AMPLIO POR JUSTICIA, VIDA Y LIBERTAD   \n",
      "3  PRESIDENCIAL 2016                                  ACCION POPULAR   \n",
      "4  PRESIDENCIAL 2016                                 ALIANZA POPULAR   \n",
      "\n",
      "   TOTAL VOTOS  \n",
      "0      6115073  \n",
      "1      3228661  \n",
      "2      2874940  \n",
      "3      1069360  \n",
      "4       894278  \n",
      "Nombre de la elección: PRESIDENCIAL 2011 - 2DA VUELTA\n"
     ]
    },
    {
     "name": "stderr",
     "output_type": "stream",
     "text": [
      "C:\\Users\\LENOVO\\AppData\\Local\\Temp\\ipykernel_22996\\1109597775.py:40: FutureWarning: Passing literal html to 'read_html' is deprecated and will be removed in a future version. To read from a literal string, wrap it in a 'StringIO' object.\n",
      "  table = pd.read_html(table_new)\n"
     ]
    },
    {
     "name": "stdout",
     "output_type": "stream",
     "text": [
      "                       Elecciones ORGANIZACIÓN POLÍTICA  TOTAL VOTOS\n",
      "0  PRESIDENCIAL 2011 - 2DA VUELTA             GANA PERU      7937704\n",
      "1  PRESIDENCIAL 2011 - 2DA VUELTA           FUERZA 2011      7490647\n",
      "2  PRESIDENCIAL 2011 - 2DA VUELTA       VOTOS EN BLANCO       116335\n",
      "3  PRESIDENCIAL 2011 - 2DA VUELTA           VOTOS NULOS       921711\n",
      "Nombre de la elección: PRESIDENCIAL 2011\n"
     ]
    },
    {
     "name": "stderr",
     "output_type": "stream",
     "text": [
      "C:\\Users\\LENOVO\\AppData\\Local\\Temp\\ipykernel_22996\\1109597775.py:40: FutureWarning: Passing literal html to 'read_html' is deprecated and will be removed in a future version. To read from a literal string, wrap it in a 'StringIO' object.\n",
      "  table = pd.read_html(table_new)\n"
     ]
    },
    {
     "name": "stdout",
     "output_type": "stream",
     "text": [
      "          Elecciones         ORGANIZACIÓN POLÍTICA  TOTAL VOTOS\n",
      "0  PRESIDENCIAL 2011                     GANA PERU      4643064\n",
      "1  PRESIDENCIAL 2011                   FUERZA 2011      3449595\n",
      "2  PRESIDENCIAL 2011    ALIANZA POR EL GRAN CAMBIO      2711450\n",
      "3  PRESIDENCIAL 2011                  PERÚ POSIBLE      2289561\n",
      "4  PRESIDENCIAL 2011  ALIANZA SOLIDARIDAD NACIONAL      1440143\n",
      "Nombre de la elección: PRESIDENCIAL 2006 - 2DA VUELTA\n"
     ]
    },
    {
     "name": "stderr",
     "output_type": "stream",
     "text": [
      "C:\\Users\\LENOVO\\AppData\\Local\\Temp\\ipykernel_22996\\1109597775.py:40: FutureWarning: Passing literal html to 'read_html' is deprecated and will be removed in a future version. To read from a literal string, wrap it in a 'StringIO' object.\n",
      "  table = pd.read_html(table_new)\n"
     ]
    },
    {
     "name": "stdout",
     "output_type": "stream",
     "text": [
      "                       Elecciones    ORGANIZACIÓN POLÍTICA  TOTAL VOTOS\n",
      "0  PRESIDENCIAL 2006 - 2DA VUELTA  PARTIDO APRISTA PERUANO      6965017\n",
      "1  PRESIDENCIAL 2006 - 2DA VUELTA        UNION POR EL PERU      6270080\n",
      "2  PRESIDENCIAL 2006 - 2DA VUELTA          VOTOS EN BLANCO       157863\n",
      "3  PRESIDENCIAL 2006 - 2DA VUELTA              VOTOS NULOS      1075318\n",
      "Nombre de la elección: PRESIDENCIAL 2006\n"
     ]
    },
    {
     "name": "stderr",
     "output_type": "stream",
     "text": [
      "C:\\Users\\LENOVO\\AppData\\Local\\Temp\\ipykernel_22996\\1109597775.py:40: FutureWarning: Passing literal html to 'read_html' is deprecated and will be removed in a future version. To read from a literal string, wrap it in a 'StringIO' object.\n",
      "  table = pd.read_html(table_new)\n"
     ]
    },
    {
     "name": "stdout",
     "output_type": "stream",
     "text": [
      "Empty DataFrame\n",
      "Columns: [Elecciones, ORGANIZACIÓN POLÍTICA, TOTAL VOTOS]\n",
      "Index: []\n",
      "Nombre de la elección: PRESIDENCIAL 2001 - 2DA VUELTA\n"
     ]
    },
    {
     "name": "stderr",
     "output_type": "stream",
     "text": [
      "C:\\Users\\LENOVO\\AppData\\Local\\Temp\\ipykernel_22996\\1109597775.py:40: FutureWarning: Passing literal html to 'read_html' is deprecated and will be removed in a future version. To read from a literal string, wrap it in a 'StringIO' object.\n",
      "  table = pd.read_html(table_new)\n"
     ]
    },
    {
     "name": "stdout",
     "output_type": "stream",
     "text": [
      "                       Elecciones    ORGANIZACIÓN POLÍTICA  TOTAL VOTOS\n",
      "0  PRESIDENCIAL 2001 - 2DA VUELTA             PERU POSIBLE      5548556\n",
      "1  PRESIDENCIAL 2001 - 2DA VUELTA  PARTIDO APRISTA PERUANO      4904929\n",
      "2  PRESIDENCIAL 2001 - 2DA VUELTA          VOTOS EN BLANCO       333546\n",
      "3  PRESIDENCIAL 2001 - 2DA VUELTA              VOTOS NULOS      1341938\n",
      "Nombre de la elección: PRESIDENCIAL 2001\n"
     ]
    },
    {
     "name": "stderr",
     "output_type": "stream",
     "text": [
      "C:\\Users\\LENOVO\\AppData\\Local\\Temp\\ipykernel_22996\\1109597775.py:40: FutureWarning: Passing literal html to 'read_html' is deprecated and will be removed in a future version. To read from a literal string, wrap it in a 'StringIO' object.\n",
      "  table = pd.read_html(table_new)\n"
     ]
    },
    {
     "name": "stdout",
     "output_type": "stream",
     "text": [
      "          Elecciones               ORGANIZACIÓN POLÍTICA  TOTAL VOTOS\n",
      "0  PRESIDENCIAL 2001                        PERU POSIBLE      3871167\n",
      "1  PRESIDENCIAL 2001             PARTIDO APRISTA PERUANO      2732857\n",
      "2  PRESIDENCIAL 2001   ALIANZA ELECTORAL UNIDAD NACIONAL      2576653\n",
      "3  PRESIDENCIAL 2001    FRENTE INDEPENDIENTE MORALIZADOR      1044207\n",
      "4  PRESIDENCIAL 2001  ALIANZA ELECTORAL SOLUCION POPULAR       179243\n",
      "Nombre de la elección: PRESIDENCIAL 2000 - 2DA VUELTA\n"
     ]
    },
    {
     "name": "stderr",
     "output_type": "stream",
     "text": [
      "C:\\Users\\LENOVO\\AppData\\Local\\Temp\\ipykernel_22996\\1109597775.py:40: FutureWarning: Passing literal html to 'read_html' is deprecated and will be removed in a future version. To read from a literal string, wrap it in a 'StringIO' object.\n",
      "  table = pd.read_html(table_new)\n"
     ]
    },
    {
     "name": "stdout",
     "output_type": "stream",
     "text": [
      "                       Elecciones        ORGANIZACIÓN POLÍTICA  TOTAL VOTOS\n",
      "0  PRESIDENCIAL 2000 - 2DA VUELTA  ALIANZA ELECTORAL PERU 2000      6041774\n",
      "1  PRESIDENCIAL 2000 - 2DA VUELTA                 PERU POSIBLE      2086208\n",
      "2  PRESIDENCIAL 2000 - 2DA VUELTA              VOTOS EN BLANCO       140773\n",
      "3  PRESIDENCIAL 2000 - 2DA VUELTA                  VOTOS NULOS      3531730\n",
      "Nombre de la elección: PRESIDENCIAL 2000\n"
     ]
    },
    {
     "name": "stderr",
     "output_type": "stream",
     "text": [
      "C:\\Users\\LENOVO\\AppData\\Local\\Temp\\ipykernel_22996\\1109597775.py:40: FutureWarning: Passing literal html to 'read_html' is deprecated and will be removed in a future version. To read from a literal string, wrap it in a 'StringIO' object.\n",
      "  table = pd.read_html(table_new)\n"
     ]
    },
    {
     "name": "stdout",
     "output_type": "stream",
     "text": [
      "          Elecciones                ORGANIZACIÓN POLÍTICA  TOTAL VOTOS\n",
      "0  PRESIDENCIAL 2000          ALIANZA ELECTORAL PERU 2000      5528394\n",
      "1  PRESIDENCIAL 2000                         PERU POSIBLE      4460812\n",
      "2  PRESIDENCIAL 2000  MOVIMIENTO INDEPENDIENTE SOMOS PERU       333049\n",
      "3  PRESIDENCIAL 2000   AGRUPACION INDEPENDIENTE AVANCEMOS       246781\n",
      "4  PRESIDENCIAL 2000                 SOLIDARIDAD NACIONAL       199813\n",
      "Nombre de la elección: PRESIDENCIAL 1995\n"
     ]
    },
    {
     "name": "stderr",
     "output_type": "stream",
     "text": [
      "C:\\Users\\LENOVO\\AppData\\Local\\Temp\\ipykernel_22996\\1109597775.py:40: FutureWarning: Passing literal html to 'read_html' is deprecated and will be removed in a future version. To read from a literal string, wrap it in a 'StringIO' object.\n",
      "  table = pd.read_html(table_new)\n"
     ]
    },
    {
     "name": "stdout",
     "output_type": "stream",
     "text": [
      "          Elecciones             ORGANIZACIÓN POLÍTICA  TOTAL VOTOS\n",
      "0  PRESIDENCIAL 1995         CAMBIO 90 - NUEVA MAYORIA      4798515\n",
      "1  PRESIDENCIAL 1995                 UNION POR EL PERU      1624566\n",
      "2  PRESIDENCIAL 1995           PARTIDO APRISTA PERUANO       306108\n",
      "3  PRESIDENCIAL 1995               CODE - PAIS POSIBLE       241598\n",
      "4  PRESIDENCIAL 1995  MOVIMIENTO CIVICO NACIONAL OBRAS       192261\n",
      "Nombre de la elección: PRESIDENCIAL 1990 - 2DA VUELTA\n"
     ]
    },
    {
     "name": "stderr",
     "output_type": "stream",
     "text": [
      "C:\\Users\\LENOVO\\AppData\\Local\\Temp\\ipykernel_22996\\1109597775.py:40: FutureWarning: Passing literal html to 'read_html' is deprecated and will be removed in a future version. To read from a literal string, wrap it in a 'StringIO' object.\n",
      "  table = pd.read_html(table_new)\n"
     ]
    },
    {
     "name": "stdout",
     "output_type": "stream",
     "text": [
      "                       Elecciones ORGANIZACIÓN POLÍTICA  TOTAL VOTOS\n",
      "0  PRESIDENCIAL 1990 - 2DA VUELTA             CAMBIO 90      4522563\n",
      "1  PRESIDENCIAL 1990 - 2DA VUELTA               FREDEMO      2713442\n",
      "2  PRESIDENCIAL 1990 - 2DA VUELTA       VOTOS EN BLANCO       136421\n",
      "3  PRESIDENCIAL 1990 - 2DA VUELTA           VOTOS NULOS       627552\n",
      "Nombre de la elección: PRESIDENCIAL 1990\n"
     ]
    },
    {
     "name": "stderr",
     "output_type": "stream",
     "text": [
      "C:\\Users\\LENOVO\\AppData\\Local\\Temp\\ipykernel_22996\\1109597775.py:40: FutureWarning: Passing literal html to 'read_html' is deprecated and will be removed in a future version. To read from a literal string, wrap it in a 'StringIO' object.\n",
      "  table = pd.read_html(table_new)\n"
     ]
    },
    {
     "name": "stdout",
     "output_type": "stream",
     "text": [
      "          Elecciones    ORGANIZACIÓN POLÍTICA  TOTAL VOTOS\n",
      "0  PRESIDENCIAL 1990                  FREDEMO      2171957\n",
      "1  PRESIDENCIAL 1990                CAMBIO 90      1937186\n",
      "2  PRESIDENCIAL 1990  PARTIDO APRISTA PERUANO      1507905\n",
      "3  PRESIDENCIAL 1990          IZQUIERDA UNIDA       548386\n",
      "4  PRESIDENCIAL 1990     IZQUIERDA SOCIALISTA       320108\n",
      "Nombre de la elección: PRESIDENCIAL 1985\n"
     ]
    },
    {
     "name": "stderr",
     "output_type": "stream",
     "text": [
      "C:\\Users\\LENOVO\\AppData\\Local\\Temp\\ipykernel_22996\\1109597775.py:40: FutureWarning: Passing literal html to 'read_html' is deprecated and will be removed in a future version. To read from a literal string, wrap it in a 'StringIO' object.\n",
      "  table = pd.read_html(table_new)\n"
     ]
    },
    {
     "name": "stdout",
     "output_type": "stream",
     "text": [
      "          Elecciones              ORGANIZACIÓN POLÍTICA  TOTAL VOTOS\n",
      "0  PRESIDENCIAL 1985            PARTIDO APRISTA PERUANO      3457030\n",
      "1  PRESIDENCIAL 1985  ALIANZA ELECTORAL IZQUIERDA UNIDA      1606914\n",
      "2  PRESIDENCIAL 1985           CONVERGENCIA DEMOCRATICA       773705\n",
      "3  PRESIDENCIAL 1985                     ACCION POPULAR       472627\n",
      "4  PRESIDENCIAL 1985             IZQUIERDA NACIONALISTA        91986\n",
      "Nombre de la elección: PRESIDENCIAL 1980\n"
     ]
    },
    {
     "name": "stderr",
     "output_type": "stream",
     "text": [
      "C:\\Users\\LENOVO\\AppData\\Local\\Temp\\ipykernel_22996\\1109597775.py:40: FutureWarning: Passing literal html to 'read_html' is deprecated and will be removed in a future version. To read from a literal string, wrap it in a 'StringIO' object.\n",
      "  table = pd.read_html(table_new)\n"
     ]
    },
    {
     "name": "stdout",
     "output_type": "stream",
     "text": [
      "          Elecciones                       ORGANIZACIÓN POLÍTICA  TOTAL VOTOS\n",
      "0  PRESIDENCIAL 1980                              ACCION POPULAR      1870864\n",
      "1  PRESIDENCIAL 1980                     PARTIDO APRISTA PERUANO      1129991\n",
      "2  PRESIDENCIAL 1980                   PARTIDO POPULAR CRISTIANO       394592\n",
      "3  PRESIDENCIAL 1980  PARTIDO REVOLUCIONARIO DE LOS TRABAJADORES       160713\n",
      "4  PRESIDENCIAL 1980           UNION DE IZQUIERDA REVOLUCIONARIA       134321\n",
      "Nombre de la elección: PRESIDENCIAL 1963\n"
     ]
    },
    {
     "name": "stderr",
     "output_type": "stream",
     "text": [
      "C:\\Users\\LENOVO\\AppData\\Local\\Temp\\ipykernel_22996\\1109597775.py:40: FutureWarning: Passing literal html to 'read_html' is deprecated and will be removed in a future version. To read from a literal string, wrap it in a 'StringIO' object.\n",
      "  table = pd.read_html(table_new)\n"
     ]
    },
    {
     "name": "stdout",
     "output_type": "stream",
     "text": [
      "          Elecciones     ORGANIZACIÓN POLÍTICA  TOTAL VOTOS\n",
      "0  PRESIDENCIAL 1963            ACCION POPULAR       708662\n",
      "1  PRESIDENCIAL 1963   PARTIDO APRISTA PERUANO       623501\n",
      "2  PRESIDENCIAL 1963   UNION NACIONAL ODRIISTA       463085\n",
      "3  PRESIDENCIAL 1963  UNION DEL PUEBLO PERUANO        19320\n",
      "4  PRESIDENCIAL 1963           VOTOS EN BLANCO        93661\n",
      "Nombre de la elección: PRESIDENCIAL 1962\n"
     ]
    },
    {
     "name": "stderr",
     "output_type": "stream",
     "text": [
      "C:\\Users\\LENOVO\\AppData\\Local\\Temp\\ipykernel_22996\\1109597775.py:40: FutureWarning: Passing literal html to 'read_html' is deprecated and will be removed in a future version. To read from a literal string, wrap it in a 'StringIO' object.\n",
      "  table = pd.read_html(table_new)\n"
     ]
    },
    {
     "name": "stdout",
     "output_type": "stream",
     "text": [
      "          Elecciones          ORGANIZACIÓN POLÍTICA  TOTAL VOTOS\n",
      "0  PRESIDENCIAL 1962        PARTIDO APRISTA PERUANO       558237\n",
      "1  PRESIDENCIAL 1962                 ACCION POPULAR       543828\n",
      "2  PRESIDENCIAL 1962        UNION NACIONAL ODRIISTA       481404\n",
      "3  PRESIDENCIAL 1962           DEMOCRACIA CRISTIANA        48828\n",
      "4  PRESIDENCIAL 1962  FRENTE DE LIBERACION NACIONAL        34595\n",
      "Nombre de la elección: PRESIDENCIAL 1956\n"
     ]
    },
    {
     "name": "stderr",
     "output_type": "stream",
     "text": [
      "C:\\Users\\LENOVO\\AppData\\Local\\Temp\\ipykernel_22996\\1109597775.py:40: FutureWarning: Passing literal html to 'read_html' is deprecated and will be removed in a future version. To read from a literal string, wrap it in a 'StringIO' object.\n",
      "  table = pd.read_html(table_new)\n"
     ]
    },
    {
     "name": "stdout",
     "output_type": "stream",
     "text": [
      "          Elecciones              ORGANIZACIÓN POLÍTICA  TOTAL VOTOS\n",
      "0  PRESIDENCIAL 1956    MOVIMIENTO DEMOCRATICO PRADISTA       568057\n",
      "1  PRESIDENCIAL 1956  FRENTE DE JUVENTUDES DEMOCRATICAS       458248\n",
      "2  PRESIDENCIAL 1956                    UNIDAD NACIONAL       222618\n",
      "Nombre de la elección: PRESIDENCIAL 1950\n"
     ]
    },
    {
     "name": "stderr",
     "output_type": "stream",
     "text": [
      "C:\\Users\\LENOVO\\AppData\\Local\\Temp\\ipykernel_22996\\1109597775.py:40: FutureWarning: Passing literal html to 'read_html' is deprecated and will be removed in a future version. To read from a literal string, wrap it in a 'StringIO' object.\n",
      "  table = pd.read_html(table_new)\n"
     ]
    },
    {
     "name": "stdout",
     "output_type": "stream",
     "text": [
      "Empty DataFrame\n",
      "Columns: [Elecciones, ORGANIZACIÓN POLÍTICA, TOTAL VOTOS]\n",
      "Index: []\n",
      "Nombre de la elección: PRESIDENCIAL 1945\n"
     ]
    },
    {
     "name": "stderr",
     "output_type": "stream",
     "text": [
      "C:\\Users\\LENOVO\\AppData\\Local\\Temp\\ipykernel_22996\\1109597775.py:40: FutureWarning: Passing literal html to 'read_html' is deprecated and will be removed in a future version. To read from a literal string, wrap it in a 'StringIO' object.\n",
      "  table = pd.read_html(table_new)\n"
     ]
    },
    {
     "name": "stdout",
     "output_type": "stream",
     "text": [
      "          Elecciones        ORGANIZACIÓN POLÍTICA  TOTAL VOTOS\n",
      "0  PRESIDENCIAL 1945  FRENTE DEMOCRATICO NACIONAL       305590\n",
      "1  PRESIDENCIAL 1945         UNION REVOLUCIONARIA       150720\n",
      "Nombre de la elección: PRESIDENCIAL 1939\n"
     ]
    },
    {
     "name": "stderr",
     "output_type": "stream",
     "text": [
      "C:\\Users\\LENOVO\\AppData\\Local\\Temp\\ipykernel_22996\\1109597775.py:40: FutureWarning: Passing literal html to 'read_html' is deprecated and will be removed in a future version. To read from a literal string, wrap it in a 'StringIO' object.\n",
      "  table = pd.read_html(table_new)\n"
     ]
    },
    {
     "name": "stdout",
     "output_type": "stream",
     "text": [
      "          Elecciones   ORGANIZACIÓN POLÍTICA  TOTAL VOTOS\n",
      "0  PRESIDENCIAL 1939  CONCENTRACION NACIONAL       262971\n",
      "1  PRESIDENCIAL 1939       FRENTE PATRIOTICO        76222\n",
      "Nombre de la elección: PRESIDENCIAL 1936\n"
     ]
    },
    {
     "name": "stderr",
     "output_type": "stream",
     "text": [
      "C:\\Users\\LENOVO\\AppData\\Local\\Temp\\ipykernel_22996\\1109597775.py:40: FutureWarning: Passing literal html to 'read_html' is deprecated and will be removed in a future version. To read from a literal string, wrap it in a 'StringIO' object.\n",
      "  table = pd.read_html(table_new)\n"
     ]
    },
    {
     "name": "stdout",
     "output_type": "stream",
     "text": [
      "          Elecciones     ORGANIZACIÓN POLÍTICA  TOTAL VOTOS\n",
      "0  PRESIDENCIAL 1936  PARTIDO SOCIAL DEMOCRATA        77042\n",
      "1  PRESIDENCIAL 1936      UNION REVOLUCIONARIA        57838\n",
      "2  PRESIDENCIAL 1936           FRENTE NACIONAL        46773\n",
      "3  PRESIDENCIAL 1936       PARTIDO REPUBLICANO        30803\n",
      "Nombre de la elección: PRESIDENCIAL 1931\n",
      "          Elecciones       ORGANIZACIÓN POLÍTICA  TOTAL VOTOS\n",
      "0  PRESIDENCIAL 1931        UNION REVOLUCIONARIA       152149\n",
      "1  PRESIDENCIAL 1931     PARTIDO APRISTA PERUANO       106088\n",
      "2  PRESIDENCIAL 1931      PARTIDO DESCENTRALISTA        21950\n",
      "3  PRESIDENCIAL 1931  PARTIDO COALICION NACIONAL        19640\n"
     ]
    },
    {
     "name": "stderr",
     "output_type": "stream",
     "text": [
      "C:\\Users\\LENOVO\\AppData\\Local\\Temp\\ipykernel_22996\\1109597775.py:40: FutureWarning: Passing literal html to 'read_html' is deprecated and will be removed in a future version. To read from a literal string, wrap it in a 'StringIO' object.\n",
      "  table = pd.read_html(table_new)\n"
     ]
    }
   ],
   "source": [
    "dataframes_list = []\n",
    "\n",
    "url_base = \"https://infogob.jne.gob.pe/Eleccion\"\n",
    "# Prepare iteration for all options in \"Eleccion\"\n",
    "for number in range(2, 27):\n",
    "    #First, we go to the website and display dropdown \"Tipo de proceso\"\n",
    "    driver.get(url_base)\n",
    "    proceso = driver.find_element(By.XPATH,'/html/body/div[1]/section/div[2]/div[2]/div[2]/div[1]/div')\n",
    "    proceso.click()\n",
    "    time.sleep(1)\n",
    "    # Then select \"Elecciones Presidenciales\"\n",
    "    presidenciales = driver.find_element(By.XPATH,'/html/body/div[1]/section/div[2]/div[2]/div[2]/div[1]/div/div[2]/div[2]')\n",
    "    presidenciales.click()\n",
    "    time.sleep(1)\n",
    "    # Then display dropdown \"Eleccion\"\n",
    "    eleccion=driver.find_element(By.XPATH,'/html/body/div[1]/section/div[2]/div[2]/div[2]/div[2]/div')\n",
    "    eleccion.click()\n",
    "    time.sleep(1)\n",
    "    # Then select an option in \"Eleccion\" for the iteration\n",
    "    election_1 = driver.find_element(By.XPATH,'/html/body/div[1]/section/div[2]/div[2]/div[2]/div[2]/div/div[2]/div[{}]'.format(number))\n",
    "    eleccion_name = election_1.text\n",
    "    print(f'Nombre de la elección: {eleccion_name}')  # Verificatiión\n",
    "    election_1.click()\n",
    "    time.sleep(1)\n",
    "    # Click in \"Ver datos de la eleccion\"\n",
    "    ver_datos = driver.find_element(By.XPATH,'/html/body/div[1]/section/div[2]/div[2]/div[3]/div/button')\n",
    "    ver_datos.click()\n",
    "    time.sleep(2)\n",
    "    # Then click on tab \"Candidatos y Resultados\"\n",
    "    resultado = driver.find_element(By.XPATH,'/html/body/div[1]/section/div[2]/div[3]/div[1]/ul/li[2]/a')\n",
    "    resultado.click()\n",
    "    time.sleep(1)\n",
    "    # Extract information in table\n",
    "    table_path = driver.find_element(By.ID,'gridEleccionResultadosElectorales')\n",
    "    table_html = table_path.get_attribute('innerHTML')\n",
    "\n",
    "    # Create headers to avoid issues with read_html\n",
    "    head = \"<table id=\\\"gridEleccionResultadosElectorales\\\" class=\\\"table table-hover table-striped\\\">\"\n",
    "    table_new = head + table_html[21:-1]\n",
    "    table = pd.read_html(table_new)\n",
    "    table_clean = table[0].iloc[:, :]\n",
    "    table_clean = table_clean.loc[:, ['ORGANIZACIÓN POLÍTICA', 'TOTAL VOTOS']]\n",
    "\n",
    "    # Insert the election name into the first column\n",
    "    table_clean.insert(0, 'Elecciones', eleccion_name)\n",
    "    print(table_clean.head())  # Verificación adicional\n",
    "\n",
    "    # Add the cleaned DataFrame to the list\n",
    "    dataframes_list.append(table_clean)"
   ]
  },
  {
   "cell_type": "code",
   "execution_count": 38,
   "metadata": {
    "scrolled": true
   },
   "outputs": [],
   "source": [
    "# TTransform the list of DataFrames into a single DataFrame\n",
    "df_vote = pd.concat(dataframes_list, ignore_index=True)"
   ]
  },
  {
   "cell_type": "code",
   "execution_count": 40,
   "metadata": {},
   "outputs": [],
   "source": [
    "# Save the result and export it to an Excel file with the group name\n",
    "file_name = 'group_7_ass_5_2024_2.xlsx'\n",
    "df_vote.to_excel(file_name, index=False)\n",
    "\n",
    "# Load the Excel file\n",
    "workbook = load_workbook(file_name)\n",
    "worksheet = workbook.active\n",
    "\n",
    "# Adjust the width of the first three columns\n",
    "for col in ['A', 'B', 'C']:\n",
    "    worksheet.column_dimensions[col].width = 30\n",
    "\n",
    "# Save the changes to the Excel file\n",
    "workbook.save(file_name)"
   ]
  }
 ],
 "metadata": {
  "hide_input": false,
  "kernelspec": {
   "display_name": "Python 3 (ipykernel)",
   "language": "python",
   "name": "python3"
  },
  "language_info": {
   "codemirror_mode": {
    "name": "ipython",
    "version": 3
   },
   "file_extension": ".py",
   "mimetype": "text/x-python",
   "name": "python",
   "nbconvert_exporter": "python",
   "pygments_lexer": "ipython3",
   "version": "3.11.5"
  },
  "toc": {
   "base_numbering": 1,
   "nav_menu": {},
   "number_sections": true,
   "sideBar": true,
   "skip_h1_title": false,
   "title_cell": "Table of Contents",
   "title_sidebar": "Contents",
   "toc_cell": false,
   "toc_position": {},
   "toc_section_display": true,
   "toc_window_display": false
  }
 },
 "nbformat": 4,
 "nbformat_minor": 4
}
